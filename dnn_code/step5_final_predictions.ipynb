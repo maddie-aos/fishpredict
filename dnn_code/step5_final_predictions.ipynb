{
 "cells": [
  {
   "attachments": {},
   "cell_type": "markdown",
   "metadata": {},
   "source": [
    "Starting with importing all packages needed for this notebook. "
   ]
  },
  {
   "cell_type": "code",
   "execution_count": 1,
   "metadata": {},
   "outputs": [
    {
     "name": "stderr",
     "output_type": "stream",
     "text": [
      "2024-02-16 10:42:46.276027: I tensorflow/core/platform/cpu_feature_guard.cc:182] This TensorFlow binary is optimized to use available CPU instructions in performance-critical operations.\n",
      "To enable the following instructions: AVX2 AVX512F AVX512_VNNI FMA, in other operations, rebuild TensorFlow with the appropriate compiler flags.\n"
     ]
    }
   ],
   "source": [
    "from mpl_toolkits.axes_grid1 import make_axes_locatable\n",
    "import matplotlib.pyplot as plt\n",
    "from rasterio.plot import show\n",
    "import matplotlib.colors\n",
    "import numpy as np\n",
    "import pandas as pd\n",
    "import rasterio\n",
    "from osgeo import gdal\n",
    "import os\n",
    "import tensorflow\n",
    "import keras\n",
    "from keras.models import model_from_json\n",
    "from keras.optimizers import Adam\n",
    "from keras.losses import categorical_crossentropy\n",
    "import tensorflow as tf\n",
    "import pickle\n",
    "\n",
    "np.random.seed(42)\n",
    "\n",
    "def my_basename(path):\n",
    "    return os.path.splitext(os.path.split(path)[1])[0]\n",
    "\n",
    "file_dir=('/Users/maddie/Projects/fishpredict/')"
   ]
  },
  {
   "attachments": {},
   "cell_type": "markdown",
   "metadata": {},
   "source": [
    "Reading the main raster as a numpy array"
   ]
  },
  {
   "cell_type": "code",
   "execution_count": 2,
   "metadata": {},
   "outputs": [
    {
     "name": "stdout",
     "output_type": "stream",
     "text": [
      "(28, 2160, 4320)\n",
      "<class 'numpy.ndarray'>\n"
     ]
    }
   ],
   "source": [
    "##opening raster as 3d numpy array\n",
    "inRas=gdal.Open(file_dir+'data/modified_data/stacked_bio_oracle/bio_oracle_stacked.tif')\n",
    "myarray=inRas.ReadAsArray()\n",
    "print(myarray.shape)\n",
    "print(type(myarray))\n"
   ]
  },
  {
   "attachments": {},
   "cell_type": "markdown",
   "metadata": {},
   "source": [
    "Creating a custom color mapping that will be used as the color structure of a heatmap, with darker shades of blue indicating higher likelihood of presence."
   ]
  },
  {
   "cell_type": "code",
   "execution_count": 3,
   "metadata": {},
   "outputs": [
    {
     "data": {
      "image/png": "[encoded data removed]",
      "text/plain": [
       "<Figure size 640x480 with 2 Axes>"
      ]
     },
     "metadata": {},
     "output_type": "display_data"
    }
   ],
   "source": [
    "#create colormap for maps\n",
    "norm = matplotlib.colors.Normalize(0,1)\n",
    "colors = [[norm(0), \"0.95\"],\n",
    "          [norm(0.05),\"#3F78FB\"],\n",
    "          [norm(0.1),\"#3769DC\"],\n",
    "          [norm(0.3),\"#2F5ABC\"],\n",
    "          [norm(0.5),\"#274B9D\"],\n",
    "          [norm(0.95),\"#203C7D\"],\n",
    "          [norm(1.0),\"#182D5E\"]]\n",
    "        \n",
    "custom_cmap = matplotlib.colors.LinearSegmentedColormap.from_list(\"\", colors)\n",
    "custom_cmap.set_bad(color=\"white\")\n",
    "\n",
    "fig, ax=plt.subplots()\n",
    "x = np.arange(29)\n",
    "y = np.linspace(-1,1,29)\n",
    "sc = ax.scatter(x,y, c=y, norm=norm, cmap=custom_cmap)\n",
    "fig.colorbar(sc, orientation=\"horizontal\")\n",
    "plt.show()"
   ]
  },
  {
   "attachments": {},
   "cell_type": "markdown",
   "metadata": {},
   "source": [
    "Reading in the species list and creating prediction heatmaps based of the randomly generated array created at the end of step 3. \n",
    "\n",
    "All of the finished heatmaps are saved in the results folder, and are separated by species. "
   ]
  },
  {
   "cell_type": "code",
   "execution_count": 4,
   "metadata": {},
   "outputs": [],
   "source": [
    "#access file with list of taxa names\n",
    "taxa=pd.read_csv(file_dir+\"results/DNN_performance/DNN_eval.txt\",sep=\"\\t\")\n",
    "taxa=taxa[\"Species\"]"
   ]
  },
  {
   "cell_type": "code",
   "execution_count": 6,
   "metadata": {},
   "outputs": [
    {
     "ename": "ValueError",
     "evalue": "in user code:\n\n    File \"/Users/maddie/anaconda3/lib/python3.11/site-packages/keras/src/engine/training.py\", line 2440, in predict_function  *\n        return step_function(self, iterator)\n    File \"/Users/maddie/anaconda3/lib/python3.11/site-packages/keras/src/engine/training.py\", line 2425, in step_function  **\n        outputs = model.distribute_strategy.run(run_step, args=(data,))\n    File \"/Users/maddie/anaconda3/lib/python3.11/site-packages/keras/src/engine/training.py\", line 2413, in run_step  **\n        outputs = model.predict_step(data)\n    File \"/Users/maddie/anaconda3/lib/python3.11/site-packages/keras/src/engine/training.py\", line 2381, in predict_step\n        return self(x, training=False)\n    File \"/Users/maddie/anaconda3/lib/python3.11/site-packages/keras/src/utils/traceback_utils.py\", line 70, in error_handler\n        raise e.with_traceback(filtered_tb) from None\n    File \"/Users/maddie/anaconda3/lib/python3.11/site-packages/keras/src/engine/input_spec.py\", line 298, in assert_input_compatibility\n        raise ValueError(\n\n    ValueError: Input 0 of layer \"sequential_3\" is incompatible with the layer: expected shape=(None, 9), found shape=(None, 28)\n",
     "output_type": "error",
     "traceback": [
      "\u001b[0;31m---------------------------------------------------------------------------\u001b[0m",
      "\u001b[0;31mValueError\u001b[0m                                Traceback (most recent call last)",
      "Cell \u001b[0;32mIn[6], line 27\u001b[0m\n\u001b[1;32m     24\u001b[0m loaded_model\u001b[38;5;241m.\u001b[39mcompile(loss\u001b[38;5;241m=\u001b[39m\u001b[38;5;124m'\u001b[39m\u001b[38;5;124mcategorical_crossentropy\u001b[39m\u001b[38;5;124m'\u001b[39m, optimizer\u001b[38;5;241m=\u001b[39mAdam(learning_rate\u001b[38;5;241m=\u001b[39m\u001b[38;5;241m0.001\u001b[39m), metrics\u001b[38;5;241m=\u001b[39m[\u001b[38;5;124m'\u001b[39m\u001b[38;5;124maccuracy\u001b[39m\u001b[38;5;124m'\u001b[39m])\n\u001b[1;32m     26\u001b[0m \u001b[38;5;66;03m#predict values\u001b[39;00m\n\u001b[0;32m---> 27\u001b[0m new_values \u001b[38;5;241m=\u001b[39m loaded_model\u001b[38;5;241m.\u001b[39mpredict(x\u001b[38;5;241m=\u001b[39minput_X,batch_size\u001b[38;5;241m=\u001b[39m\u001b[38;5;241m500\u001b[39m,verbose\u001b[38;5;241m=\u001b[39m\u001b[38;5;241m0\u001b[39m) \u001b[38;5;66;03m###predict output value\u001b[39;00m\n\u001b[1;32m     29\u001b[0m \u001b[38;5;66;03m##take the prob. of presence (new_value.item((0,1))) and put into numpy array\u001b[39;00m\n\u001b[1;32m     30\u001b[0m new_band_values\u001b[38;5;241m=\u001b[39m[]\n",
      "File \u001b[0;32m~/anaconda3/lib/python3.11/site-packages/keras/src/utils/traceback_utils.py:70\u001b[0m, in \u001b[0;36mfilter_traceback.<locals>.error_handler\u001b[0;34m(*args, **kwargs)\u001b[0m\n\u001b[1;32m     67\u001b[0m     filtered_tb \u001b[38;5;241m=\u001b[39m _process_traceback_frames(e\u001b[38;5;241m.\u001b[39m__traceback__)\n\u001b[1;32m     68\u001b[0m     \u001b[38;5;66;03m# To get the full stack trace, call:\u001b[39;00m\n\u001b[1;32m     69\u001b[0m     \u001b[38;5;66;03m# `tf.debugging.disable_traceback_filtering()`\u001b[39;00m\n\u001b[0;32m---> 70\u001b[0m     \u001b[38;5;28;01mraise\u001b[39;00m e\u001b[38;5;241m.\u001b[39mwith_traceback(filtered_tb) \u001b[38;5;28;01mfrom\u001b[39;00m \u001b[38;5;28;01mNone\u001b[39;00m\n\u001b[1;32m     71\u001b[0m \u001b[38;5;28;01mfinally\u001b[39;00m:\n\u001b[1;32m     72\u001b[0m     \u001b[38;5;28;01mdel\u001b[39;00m filtered_tb\n",
      "File \u001b[0;32m/var/folders/8_/ndsj9vc92xq7fmvlqlkg8zt40000gn/T/__autograph_generated_file8mydnbtv.py:15\u001b[0m, in \u001b[0;36mouter_factory.<locals>.inner_factory.<locals>.tf__predict_function\u001b[0;34m(iterator)\u001b[0m\n\u001b[1;32m     13\u001b[0m \u001b[38;5;28;01mtry\u001b[39;00m:\n\u001b[1;32m     14\u001b[0m     do_return \u001b[38;5;241m=\u001b[39m \u001b[38;5;28;01mTrue\u001b[39;00m\n\u001b[0;32m---> 15\u001b[0m     retval_ \u001b[38;5;241m=\u001b[39m ag__\u001b[38;5;241m.\u001b[39mconverted_call(ag__\u001b[38;5;241m.\u001b[39mld(step_function), (ag__\u001b[38;5;241m.\u001b[39mld(\u001b[38;5;28mself\u001b[39m), ag__\u001b[38;5;241m.\u001b[39mld(iterator)), \u001b[38;5;28;01mNone\u001b[39;00m, fscope)\n\u001b[1;32m     16\u001b[0m \u001b[38;5;28;01mexcept\u001b[39;00m:\n\u001b[1;32m     17\u001b[0m     do_return \u001b[38;5;241m=\u001b[39m \u001b[38;5;28;01mFalse\u001b[39;00m\n",
      "\u001b[0;31mValueError\u001b[0m: in user code:\n\n    File \"/Users/maddie/anaconda3/lib/python3.11/site-packages/keras/src/engine/training.py\", line 2440, in predict_function  *\n        return step_function(self, iterator)\n    File \"/Users/maddie/anaconda3/lib/python3.11/site-packages/keras/src/engine/training.py\", line 2425, in step_function  **\n        outputs = model.distribute_strategy.run(run_step, args=(data,))\n    File \"/Users/maddie/anaconda3/lib/python3.11/site-packages/keras/src/engine/training.py\", line 2413, in run_step  **\n        outputs = model.predict_step(data)\n    File \"/Users/maddie/anaconda3/lib/python3.11/site-packages/keras/src/engine/training.py\", line 2381, in predict_step\n        return self(x, training=False)\n    File \"/Users/maddie/anaconda3/lib/python3.11/site-packages/keras/src/utils/traceback_utils.py\", line 70, in error_handler\n        raise e.with_traceback(filtered_tb) from None\n    File \"/Users/maddie/anaconda3/lib/python3.11/site-packages/keras/src/engine/input_spec.py\", line 298, in assert_input_compatibility\n        raise ValueError(\n\n    ValueError: Input 0 of layer \"sequential_3\" is incompatible with the layer: expected shape=(None, 9), found shape=(None, 28)\n"
     ]
    }
   ],
   "source": [
    "%%capture\n",
    "for species in taxa[:]:\n",
    "\n",
    "    spec=species\n",
    "    print(\"processing\", spec)\n",
    "    spec=spec.replace(\" \",\"_\")\n",
    "\n",
    "    ##########################################################\n",
    "    #  reconstruct the model and run the prediction globally #\n",
    "    ##########################################################\n",
    "\n",
    "    input_X=np.load(file_dir+'data/modified_data/prediction_arrays/world_prediction_array.npy')\n",
    "    df=pd.DataFrame(input_X)\n",
    "\n",
    "    #create copy of band to later subset values in\n",
    "    new_band=myarray[1].copy()\n",
    "    new_band.shape\n",
    "\n",
    "    model_filename = os.path.join(file_dir,'pickled_model', '{}.pkl'.format(spec))\n",
    "    with open(model_filename, 'rb') as model_file:\n",
    "        loaded_model = pickle.load(model_file)\n",
    "\n",
    "\n",
    "    #compile model\n",
    "    loaded_model.compile(loss='categorical_crossentropy', optimizer=Adam(learning_rate=0.001), metrics=['accuracy'])\n",
    "\n",
    "    #predict values\n",
    "    new_values = loaded_model.predict(x=input_X,batch_size=500,verbose=0) ###predict output value\n",
    "\n",
    "    ##take the prob. of presence (new_value.item((0,1))) and put into numpy array\n",
    "    new_band_values=[]\n",
    "   \n",
    "    for i in new_values:\n",
    "        new_value=i[1]\n",
    "        new_band_values.append(new_value)\n",
    "    new_band_values=np.array(new_band_values)\n",
    "\n",
    "    df=pd.read_csv(file_dir+'/data/modified_data/prediction_arrays/world_prediction_row_col.csv')\n",
    "    row=df[\"row\"]\n",
    "    row=row.values\n",
    "    col=df[\"col\"]\n",
    "    col=col.values\n",
    "    \n",
    "    #################################\n",
    "    # subset output into rasterband #\n",
    "    #################################\n",
    "    for i in range(0,len(row)):\n",
    "        new_band[int(row[i]),int(col[i])]=new_band_values[i]\n",
    "\n",
    "    #new_band[index_minb]=np.nan #exclude lakes, inland seas, coastline\n",
    "   \n",
    "    \n",
    "    src=rasterio.open(file_dir+'data/modified_data/stacked_bio_oracle/bio_oracle_stacked.tif')\n",
    "    profile=src.profile\n",
    "    profile.update(count=1)\n",
    "\n",
    "    \n",
    "    src=rasterio.open(file_dir+'data/modified_data/stacked_bio_oracle/bio_oracle_stacked.tif')\n",
    "    profile=src.profile\n",
    "    profile.update(count=1)\n",
    "\n",
    "    #write to file\n",
    "    with rasterio.open(file_dir+'/results/fish/{}/{}_predicted_map.tif'.format(spec,spec), 'w', **profile) as dst:\n",
    "        dst.write(new_band, 1) \n",
    "        \n",
    "    ####################################\n",
    "    # create additional colormap image #\n",
    "    ####################################\n",
    "    \n",
    "    clipped = rasterio.open(file_dir+'/results/fish/{}/{}_predicted_map.tif'.format(spec,spec))\n",
    "    \n",
    "    array = clipped.read(1)\n",
    "    array_data = clipped.read(1,masked=True)\n",
    "    array_meta = clipped.profile\n",
    "    \n",
    "    #create figure\n",
    "    my_dpi=96\n",
    "    fig, ax = plt.subplots(figsize=(4320/my_dpi, 1800/my_dpi))\n",
    "    im=ax.imshow(array_data,cmap=custom_cmap,interpolation=\"bilinear\",vmin=0,vmax=0.99)#,filternorm=1)\n",
    "    divider=make_axes_locatable(ax)\n",
    "    cax=divider.append_axes(\"right\",size=\"2%\",pad=0.1)\n",
    "    fig.colorbar(im,cax=cax)\n",
    "    spec=spec.replace(\"_\",\" \")\n",
    "    plt.yticks(fontsize=40)\n",
    "    ax.set_title('%s prediction map'%spec,fontsize=80)\n",
    "    \n",
    "    #save to file\n",
    "    spec=spec.replace(\" \",\"_\")\n",
    "    plt.savefig(file_dir+'/results/fish/{}/{}_predicted_map_color.png'.format(spec,spec),dpi=my_dpi)\n",
    "    \n",
    "    #next species!"
   ]
  }
 ],
 "metadata": {
  "kernelspec": {
   "display_name": "Python 3 (ipykernel)",
   "language": "python",
   "name": "python3"
  },
  "language_info": {
   "codemirror_mode": {
    "name": "ipython",
    "version": 3
   },
   "file_extension": ".py",
   "mimetype": "text/x-python",
   "name": "python",
   "nbconvert_exporter": "python",
   "pygments_lexer": "ipython3",
   "version": "3.11.5"
  }
 },
 "nbformat": 4,
 "nbformat_minor": 4
}
