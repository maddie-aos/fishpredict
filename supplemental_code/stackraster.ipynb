{
 "cells": [
  {
   "cell_type": "code",
   "execution_count": 1,
   "metadata": {},
   "outputs": [],
   "source": [
    "from IPython.core.interactiveshell import InteractiveShell\n",
    "InteractiveShell.ast_node_interactivity = \"all\"\n",
    "\n",
    "from shapely.geometry import Point\n",
    "import matplotlib.pyplot as plt\n",
    "from rasterio.mask import mask\n",
    "from rasterio.plot import show\n",
    "from rasterio.plot import plotting_extent\n",
    "from natsort import natsorted\n",
    "import earthpy.spatial as es\n",
    "import pandas as pd\n",
    "import geopandas\n",
    "import rasterio\n",
    "import pycrs\n",
    "import os\n",
    "\n",
    "file_dir = ('/Users/maddie/Projects/fishpredict/data/data_raw/')\n",
    "file_dir2 = ('/Users/maddie/Projects/fishpredict/data/modified_data/')"
   ]
  },
  {
   "cell_type": "code",
   "execution_count": 2,
   "metadata": {},
   "outputs": [
    {
     "data": {
      "text/plain": [
       "27"
      ]
     },
     "execution_count": 2,
     "metadata": {},
     "output_type": "execute_result"
    },
    {
     "data": {
      "text/plain": [
       "23"
      ]
     },
     "execution_count": 2,
     "metadata": {},
     "output_type": "execute_result"
    },
    {
     "data": {
      "text/plain": [
       "23"
      ]
     },
     "execution_count": 2,
     "metadata": {},
     "output_type": "execute_result"
    },
    {
     "data": {
      "text/plain": [
       "23"
      ]
     },
     "execution_count": 2,
     "metadata": {},
     "output_type": "execute_result"
    },
    {
     "data": {
      "text/plain": [
       "25"
      ]
     },
     "execution_count": 2,
     "metadata": {},
     "output_type": "execute_result"
    },
    {
     "data": {
      "text/plain": [
       "29"
      ]
     },
     "execution_count": 2,
     "metadata": {},
     "output_type": "execute_result"
    },
    {
     "data": {
      "text/plain": [
       "24"
      ]
     },
     "execution_count": 2,
     "metadata": {},
     "output_type": "execute_result"
    },
    {
     "data": {
      "text/plain": [
       "24"
      ]
     },
     "execution_count": 2,
     "metadata": {},
     "output_type": "execute_result"
    },
    {
     "data": {
      "text/plain": [
       "20"
      ]
     },
     "execution_count": 2,
     "metadata": {},
     "output_type": "execute_result"
    },
    {
     "data": {
      "text/plain": [
       "27"
      ]
     },
     "execution_count": 2,
     "metadata": {},
     "output_type": "execute_result"
    },
    {
     "data": {
      "text/plain": [
       "23"
      ]
     },
     "execution_count": 2,
     "metadata": {},
     "output_type": "execute_result"
    },
    {
     "data": {
      "text/plain": [
       "23"
      ]
     },
     "execution_count": 2,
     "metadata": {},
     "output_type": "execute_result"
    },
    {
     "data": {
      "text/plain": [
       "23"
      ]
     },
     "execution_count": 2,
     "metadata": {},
     "output_type": "execute_result"
    },
    {
     "data": {
      "text/plain": [
       "25"
      ]
     },
     "execution_count": 2,
     "metadata": {},
     "output_type": "execute_result"
    },
    {
     "data": {
      "text/plain": [
       "29"
      ]
     },
     "execution_count": 2,
     "metadata": {},
     "output_type": "execute_result"
    },
    {
     "data": {
      "text/plain": [
       "24"
      ]
     },
     "execution_count": 2,
     "metadata": {},
     "output_type": "execute_result"
    },
    {
     "data": {
      "text/plain": [
       "24"
      ]
     },
     "execution_count": 2,
     "metadata": {},
     "output_type": "execute_result"
    },
    {
     "data": {
      "text/plain": [
       "20"
      ]
     },
     "execution_count": 2,
     "metadata": {},
     "output_type": "execute_result"
    },
    {
     "data": {
      "text/plain": [
       "21"
      ]
     },
     "execution_count": 2,
     "metadata": {},
     "output_type": "execute_result"
    },
    {
     "data": {
      "text/plain": [
       "21"
      ]
     },
     "execution_count": 2,
     "metadata": {},
     "output_type": "execute_result"
    },
    {
     "data": {
      "text/plain": [
       "21"
      ]
     },
     "execution_count": 2,
     "metadata": {},
     "output_type": "execute_result"
    },
    {
     "data": {
      "text/plain": [
       "16"
      ]
     },
     "execution_count": 2,
     "metadata": {},
     "output_type": "execute_result"
    },
    {
     "data": {
      "text/plain": [
       "23"
      ]
     },
     "execution_count": 2,
     "metadata": {},
     "output_type": "execute_result"
    },
    {
     "data": {
      "text/plain": [
       "27"
      ]
     },
     "execution_count": 2,
     "metadata": {},
     "output_type": "execute_result"
    },
    {
     "data": {
      "text/plain": [
       "26"
      ]
     },
     "execution_count": 2,
     "metadata": {},
     "output_type": "execute_result"
    },
    {
     "data": {
      "text/plain": [
       "22"
      ]
     },
     "execution_count": 2,
     "metadata": {},
     "output_type": "execute_result"
    },
    {
     "data": {
      "text/plain": [
       "22"
      ]
     },
     "execution_count": 2,
     "metadata": {},
     "output_type": "execute_result"
    },
    {
     "data": {
      "text/plain": [
       "25"
      ]
     },
     "execution_count": 2,
     "metadata": {},
     "output_type": "execute_result"
    },
    {
     "data": {
      "text/plain": [
       "(array([[[ 1.54295560e+001,  1.54295560e+001,  1.54295570e+001, ...,\n",
       "           1.53105870e+001,  1.53105900e+001,  1.53105920e+001],\n",
       "         [ 1.54295810e+001,  1.54295810e+001,  1.54295820e+001, ...,\n",
       "           1.53105060e+001,  1.53104320e+001,  1.53104350e+001],\n",
       "         [ 1.54296050e+001,  1.54296060e+001,  1.54296060e+001, ...,\n",
       "           1.53102830e+001,  1.53102860e+001,  1.53102880e+001],\n",
       "         ...,\n",
       "         [-1.70000000e+308, -1.70000000e+308, -1.70000000e+308, ...,\n",
       "          -1.70000000e+308, -1.70000000e+308, -1.70000000e+308],\n",
       "         [-1.70000000e+308, -1.70000000e+308, -1.70000000e+308, ...,\n",
       "          -1.70000000e+308, -1.70000000e+308, -1.70000000e+308],\n",
       "         [-1.70000000e+308, -1.70000000e+308, -1.70000000e+308, ...,\n",
       "          -1.70000000e+308, -1.70000000e+308, -1.70000000e+308]],\n",
       " \n",
       "        [[ 4.36200000e-003,  4.36200000e-003,  4.36200000e-003, ...,\n",
       "           4.36200000e-003,  4.36200000e-003,  4.36200000e-003],\n",
       "         [ 4.36200000e-003,  4.36200000e-003,  4.36200000e-003, ...,\n",
       "           4.36200000e-003,  4.36200000e-003,  4.36200000e-003],\n",
       "         [ 4.36200000e-003,  4.36200000e-003,  4.36200000e-003, ...,\n",
       "           4.36200000e-003,  4.36200000e-003,  4.36200000e-003],\n",
       "         ...,\n",
       "         [-1.70000000e+308, -1.70000000e+308, -1.70000000e+308, ...,\n",
       "          -1.70000000e+308, -1.70000000e+308, -1.70000000e+308],\n",
       "         [-1.70000000e+308, -1.70000000e+308, -1.70000000e+308, ...,\n",
       "          -1.70000000e+308, -1.70000000e+308, -1.70000000e+308],\n",
       "         [-1.70000000e+308, -1.70000000e+308, -1.70000000e+308, ...,\n",
       "          -1.70000000e+308, -1.70000000e+308, -1.70000000e+308]],\n",
       " \n",
       "        [[ 1.02959200e+000,  1.02959200e+000,  1.02959300e+000, ...,\n",
       "           1.02557300e+000,  1.02557600e+000,  1.02557600e+000],\n",
       "         [ 1.02985600e+000,  1.02984800e+000,  1.02984000e+000, ...,\n",
       "           1.02855600e+000,  1.02855700e+000,  1.02855700e+000],\n",
       "         [ 1.02994700e+000,  1.02994700e+000,  1.02995700e+000, ...,\n",
       "           1.02857200e+000,  1.02857500e+000,  1.02857800e+000],\n",
       "         ...,\n",
       "         [-1.70000000e+308, -1.70000000e+308, -1.70000000e+308, ...,\n",
       "          -1.70000000e+308, -1.70000000e+308, -1.70000000e+308],\n",
       "         [-1.70000000e+308, -1.70000000e+308, -1.70000000e+308, ...,\n",
       "          -1.70000000e+308, -1.70000000e+308, -1.70000000e+308],\n",
       "         [-1.70000000e+308, -1.70000000e+308, -1.70000000e+308, ...,\n",
       "          -1.70000000e+308, -1.70000000e+308, -1.70000000e+308]],\n",
       " \n",
       "        ...,\n",
       " \n",
       "        [[-8.70969000e-001, -8.70974000e-001, -8.70979000e-001, ...,\n",
       "          -9.43570000e-001, -9.43570000e-001, -9.43570000e-001],\n",
       "         [-8.71326000e-001, -8.71331000e-001, -8.71336000e-001, ...,\n",
       "          -9.43570000e-001, -9.43571000e-001, -9.43571000e-001],\n",
       "         [-8.71689000e-001, -8.71694000e-001, -8.71699000e-001, ...,\n",
       "          -9.43572000e-001, -9.43572000e-001, -9.43572000e-001],\n",
       "         ...,\n",
       "         [-1.70000000e+308, -1.70000000e+308, -1.70000000e+308, ...,\n",
       "          -1.70000000e+308, -1.70000000e+308, -1.70000000e+308],\n",
       "         [-1.70000000e+308, -1.70000000e+308, -1.70000000e+308, ...,\n",
       "          -1.70000000e+308, -1.70000000e+308, -1.70000000e+308],\n",
       "         [-1.70000000e+308, -1.70000000e+308, -1.70000000e+308, ...,\n",
       "          -1.70000000e+308, -1.70000000e+308, -1.70000000e+308]],\n",
       " \n",
       "        [[-3.39999995e+038, -3.39999995e+038, -3.39999995e+038, ...,\n",
       "          -3.39999995e+038, -3.39999995e+038, -3.39999995e+038],\n",
       "         [-3.39999995e+038, -3.39999995e+038, -3.39999995e+038, ...,\n",
       "          -3.39999995e+038, -3.39999995e+038, -3.39999995e+038],\n",
       "         [-3.39999995e+038, -3.39999995e+038, -3.39999995e+038, ...,\n",
       "          -3.39999995e+038, -3.39999995e+038, -3.39999995e+038],\n",
       "         ...,\n",
       "         [-3.39999995e+038, -3.39999995e+038, -3.39999995e+038, ...,\n",
       "          -3.39999995e+038, -3.39999995e+038, -3.39999995e+038],\n",
       "         [-3.39999995e+038, -3.39999995e+038, -3.39999995e+038, ...,\n",
       "          -3.39999995e+038, -3.39999995e+038, -3.39999995e+038],\n",
       "         [-3.39999995e+038, -3.39999995e+038, -3.39999995e+038, ...,\n",
       "          -3.39999995e+038, -3.39999995e+038, -3.39999995e+038]],\n",
       " \n",
       "        [[-1.71621300e+000, -1.71621300e+000, -1.71621300e+000, ...,\n",
       "          -1.71627000e+000, -1.71627000e+000, -1.71627000e+000],\n",
       "         [-1.71625200e+000, -1.71625600e+000, -1.71625300e+000, ...,\n",
       "          -1.71629100e+000, -1.71625600e+000, -1.71627900e+000],\n",
       "         [-1.71621400e+000, -1.71621300e+000, -1.71621300e+000, ...,\n",
       "          -1.71627000e+000, -1.71627000e+000, -1.71627000e+000],\n",
       "         ...,\n",
       "         [-1.70000000e+308, -1.70000000e+308, -1.70000000e+308, ...,\n",
       "          -1.70000000e+308, -1.70000000e+308, -1.70000000e+308],\n",
       "         [-1.70000000e+308, -1.70000000e+308, -1.70000000e+308, ...,\n",
       "          -1.70000000e+308, -1.70000000e+308, -1.70000000e+308],\n",
       "         [-1.70000000e+308, -1.70000000e+308, -1.70000000e+308, ...,\n",
       "          -1.70000000e+308, -1.70000000e+308, -1.70000000e+308]]]),\n",
       " {'driver': 'GTiff', 'dtype': 'float64', 'nodata': -1.7e+308, 'width': 4320, 'height': 2160, 'count': 28, 'crs': CRS.from_epsg(4326), 'transform': Affine(0.08333333333333333, 0.0, -180.0,\n",
       "        0.0, -0.08333333333333333, 90.0), 'blockysize': 1, 'tiled': False, 'interleave': 'pixel'})"
      ]
     },
     "execution_count": 2,
     "metadata": {},
     "output_type": "execute_result"
    }
   ],
   "source": [
    "list_bio=[]\n",
    "names_bio=[]\n",
    "\n",
    "#add files to these lists\n",
    "for root, dirs, files in os.walk(file_dir+\"/bio-oracle/\"):\n",
    "    for file in files:\n",
    "        if file.endswith('.tif'):\n",
    "            list_bio.append(file_dir+\"/bio-oracle/\"+file)\n",
    "            name=file.replace(\".tif\",\"\")\n",
    "            names_bio.append(name)\n",
    "            names_bio=natsorted(names_bio,key=lambda y: y.lower())\n",
    "\n",
    "for name in names_bio:\n",
    "    raster=rasterio.open(file_dir+\"/bio-oracle/\"+name+\".tif\")\n",
    "    #print(raster.meta) #inspect meta information\n",
    "    #show(raster,title=\"%s\"%name)\n",
    "\n",
    "list_bio_files=[]\n",
    "for item in list_bio:\n",
    "    list_bio_files.append(item)\n",
    "\n",
    "names_bio_files=[]\n",
    "for item in names_bio:\n",
    "    names_bio_files.append(item)\n",
    "\n",
    "\n",
    "with open(file_dir+'/bio-oracle/variable_list.txt', 'w') as f:\n",
    "    for item in names_bio_files:\n",
    "        f.write(\"%s\\n\" % item)     \n",
    "\n",
    "es.stack(list_bio_files, file_dir2+'/stacked_bio_oracle/bio_oracle_stacked1.tif')"
   ]
  }
 ],
 "metadata": {
  "kernelspec": {
   "display_name": "base",
   "language": "python",
   "name": "python3"
  },
  "language_info": {
   "codemirror_mode": {
    "name": "ipython",
    "version": 3
   },
   "file_extension": ".py",
   "mimetype": "text/x-python",
   "name": "python",
   "nbconvert_exporter": "python",
   "pygments_lexer": "ipython3",
   "version": "3.11.5"
  }
 },
 "nbformat": 4,
 "nbformat_minor": 2
}
