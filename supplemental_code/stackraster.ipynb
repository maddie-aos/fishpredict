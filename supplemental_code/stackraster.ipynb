{
 "cells": [
  {
   "cell_type": "code",
   "execution_count": 1,
   "metadata": {},
   "outputs": [],
   "source": [
    "from IPython.core.interactiveshell import InteractiveShell\n",
    "InteractiveShell.ast_node_interactivity = \"all\"\n",
    "\n",
    "from shapely.geometry import Point\n",
    "import matplotlib.pyplot as plt\n",
    "from rasterio.mask import mask\n",
    "from rasterio.plot import show\n",
    "from rasterio.plot import plotting_extent\n",
    "from natsort import natsorted\n",
    "import earthpy.spatial as es\n",
    "import pandas as pd\n",
    "import geopandas\n",
    "import rasterio\n",
    "import pycrs\n",
    "import os\n",
    "\n",
    "file_dir = ('/Users/maddie/Projects/fishpredict/data/data_raw/')\n",
    "file_dir2 = ('/Users/maddie/Projects/fishpredict/data/modified_data/')"
   ]
  },
  {
   "cell_type": "code",
   "execution_count": 2,
   "metadata": {},
   "outputs": [
    {
     "data": {
      "text/plain": [
       "21"
      ]
     },
     "execution_count": 2,
     "metadata": {},
     "output_type": "execute_result"
    },
    {
     "data": {
      "text/plain": [
       "21"
      ]
     },
     "execution_count": 2,
     "metadata": {},
     "output_type": "execute_result"
    },
    {
     "data": {
      "text/plain": [
       "21"
      ]
     },
     "execution_count": 2,
     "metadata": {},
     "output_type": "execute_result"
    },
    {
     "data": {
      "text/plain": [
       "16"
      ]
     },
     "execution_count": 2,
     "metadata": {},
     "output_type": "execute_result"
    },
    {
     "data": {
      "text/plain": [
       "23"
      ]
     },
     "execution_count": 2,
     "metadata": {},
     "output_type": "execute_result"
    },
    {
     "data": {
      "text/plain": [
       "27"
      ]
     },
     "execution_count": 2,
     "metadata": {},
     "output_type": "execute_result"
    },
    {
     "data": {
      "text/plain": [
       "26"
      ]
     },
     "execution_count": 2,
     "metadata": {},
     "output_type": "execute_result"
    },
    {
     "data": {
      "text/plain": [
       "22"
      ]
     },
     "execution_count": 2,
     "metadata": {},
     "output_type": "execute_result"
    },
    {
     "data": {
      "text/plain": [
       "22"
      ]
     },
     "execution_count": 2,
     "metadata": {},
     "output_type": "execute_result"
    },
    {
     "data": {
      "text/plain": [
       "25"
      ]
     },
     "execution_count": 2,
     "metadata": {},
     "output_type": "execute_result"
    },
    {
     "data": {
      "text/plain": [
       "(array([[[ 6.68610000e-001,  6.68611000e-001,  6.68611000e-001, ...,\n",
       "           6.68607000e-001,  6.68608000e-001,  6.68609000e-001],\n",
       "         [ 6.65237000e-001,  6.65244000e-001,  6.65251000e-001, ...,\n",
       "           6.65216000e-001,  6.65223000e-001,  6.65230000e-001],\n",
       "         [ 6.62502000e-001,  6.62512000e-001,  6.62522000e-001, ...,\n",
       "           6.62470000e-001,  6.62480000e-001,  6.62491000e-001],\n",
       "         ...,\n",
       "         [-1.70000000e+308, -1.70000000e+308, -1.70000000e+308, ...,\n",
       "          -1.70000000e+308, -1.70000000e+308, -1.70000000e+308],\n",
       "         [-1.70000000e+308, -1.70000000e+308, -1.70000000e+308, ...,\n",
       "          -1.70000000e+308, -1.70000000e+308, -1.70000000e+308],\n",
       "         [-1.70000000e+308, -1.70000000e+308, -1.70000000e+308, ...,\n",
       "          -1.70000000e+308, -1.70000000e+308, -1.70000000e+308]],\n",
       " \n",
       "        [[ 3.73846743e+002,  3.73846792e+002,  3.73846841e+002, ...,\n",
       "           3.73846596e+002,  3.73846645e+002,  3.73846694e+002],\n",
       "         [ 3.73888858e+002,  3.73889087e+002,  3.73889317e+002, ...,\n",
       "           3.73888170e+002,  3.73888400e+002,  3.73888629e+002],\n",
       "         [ 3.73992079e+002,  3.73992034e+002,  3.73991994e+002, ...,\n",
       "           3.73992245e+002,  3.73992184e+002,  3.73992129e+002],\n",
       "         ...,\n",
       "         [-1.70000000e+308, -1.70000000e+308, -1.70000000e+308, ...,\n",
       "          -1.70000000e+308, -1.70000000e+308, -1.70000000e+308],\n",
       "         [-1.70000000e+308, -1.70000000e+308, -1.70000000e+308, ...,\n",
       "          -1.70000000e+308, -1.70000000e+308, -1.70000000e+308],\n",
       "         [-1.70000000e+308, -1.70000000e+308, -1.70000000e+308, ...,\n",
       "          -1.70000000e+308, -1.70000000e+308, -1.70000000e+308]],\n",
       " \n",
       "        [[ 1.19561740e+001,  1.19561940e+001,  1.19562140e+001, ...,\n",
       "           1.19561140e+001,  1.19561340e+001,  1.19561540e+001],\n",
       "         [ 1.19281050e+001,  1.19282340e+001,  1.19283650e+001, ...,\n",
       "           1.19277160e+001,  1.19278450e+001,  1.19279750e+001],\n",
       "         [ 1.19180220e+001,  1.19181220e+001,  1.19182220e+001, ...,\n",
       "           1.19177250e+001,  1.19178230e+001,  1.19179220e+001],\n",
       "         ...,\n",
       "         [-1.70000000e+308, -1.70000000e+308, -1.70000000e+308, ...,\n",
       "          -1.70000000e+308, -1.70000000e+308, -1.70000000e+308],\n",
       "         [-1.70000000e+308, -1.70000000e+308, -1.70000000e+308, ...,\n",
       "          -1.70000000e+308, -1.70000000e+308, -1.70000000e+308],\n",
       "         [-1.70000000e+308, -1.70000000e+308, -1.70000000e+308, ...,\n",
       "          -1.70000000e+308, -1.70000000e+308, -1.70000000e+308]],\n",
       " \n",
       "        ...,\n",
       " \n",
       "        [[ 4.78160100e+000,  4.78159600e+000,  4.78159000e+000, ...,\n",
       "           4.78161900e+000,  4.78161300e+000,  4.78160700e+000],\n",
       "         [ 4.76356200e+000,  4.76354700e+000,  4.76353100e+000, ...,\n",
       "           4.76360800e+000,  4.76359300e+000,  4.76357700e+000],\n",
       "         [ 4.73740800e+000,  4.73744700e+000,  4.73748500e+000, ...,\n",
       "           4.73728400e+000,  4.73732600e+000,  4.73736800e+000],\n",
       "         ...,\n",
       "         [-1.70000000e+308, -1.70000000e+308, -1.70000000e+308, ...,\n",
       "          -1.70000000e+308, -1.70000000e+308, -1.70000000e+308],\n",
       "         [-1.70000000e+308, -1.70000000e+308, -1.70000000e+308, ...,\n",
       "          -1.70000000e+308, -1.70000000e+308, -1.70000000e+308],\n",
       "         [-1.70000000e+308, -1.70000000e+308, -1.70000000e+308, ...,\n",
       "          -1.70000000e+308, -1.70000000e+308, -1.70000000e+308]],\n",
       " \n",
       "        [[-3.39999995e+038, -3.39999995e+038, -3.39999995e+038, ...,\n",
       "          -3.39999995e+038, -3.39999995e+038, -3.39999995e+038],\n",
       "         [-3.39999995e+038, -3.39999995e+038, -3.39999995e+038, ...,\n",
       "          -3.39999995e+038, -3.39999995e+038, -3.39999995e+038],\n",
       "         [-3.39999995e+038, -3.39999995e+038, -3.39999995e+038, ...,\n",
       "          -3.39999995e+038, -3.39999995e+038, -3.39999995e+038],\n",
       "         ...,\n",
       "         [-3.39999995e+038, -3.39999995e+038, -3.39999995e+038, ...,\n",
       "          -3.39999995e+038, -3.39999995e+038, -3.39999995e+038],\n",
       "         [-3.39999995e+038, -3.39999995e+038, -3.39999995e+038, ...,\n",
       "          -3.39999995e+038, -3.39999995e+038, -3.39999995e+038],\n",
       "         [-3.39999995e+038, -3.39999995e+038, -3.39999995e+038, ...,\n",
       "          -3.39999995e+038, -3.39999995e+038, -3.39999995e+038]],\n",
       " \n",
       "        [[-1.71621300e+000, -1.71621300e+000, -1.71621300e+000, ...,\n",
       "          -1.71627000e+000, -1.71627000e+000, -1.71627000e+000],\n",
       "         [-1.71625200e+000, -1.71625600e+000, -1.71625300e+000, ...,\n",
       "          -1.71629100e+000, -1.71625600e+000, -1.71627900e+000],\n",
       "         [-1.71621400e+000, -1.71621300e+000, -1.71621300e+000, ...,\n",
       "          -1.71627000e+000, -1.71627000e+000, -1.71627000e+000],\n",
       "         ...,\n",
       "         [-1.70000000e+308, -1.70000000e+308, -1.70000000e+308, ...,\n",
       "          -1.70000000e+308, -1.70000000e+308, -1.70000000e+308],\n",
       "         [-1.70000000e+308, -1.70000000e+308, -1.70000000e+308, ...,\n",
       "          -1.70000000e+308, -1.70000000e+308, -1.70000000e+308],\n",
       "         [-1.70000000e+308, -1.70000000e+308, -1.70000000e+308, ...,\n",
       "          -1.70000000e+308, -1.70000000e+308, -1.70000000e+308]]]),\n",
       " {'driver': 'GTiff', 'dtype': 'float64', 'nodata': -1.7e+308, 'width': 4320, 'height': 2160, 'count': 10, 'crs': CRS.from_epsg(4326), 'transform': Affine(0.08333333333333333, 0.0, -180.0,\n",
       "        0.0, -0.08333333333333333, 90.0), 'blockysize': 1, 'tiled': False, 'interleave': 'pixel'})"
      ]
     },
     "execution_count": 2,
     "metadata": {},
     "output_type": "execute_result"
    }
   ],
   "source": [
    "list_bio=[]\n",
    "names_bio=[]\n",
    "\n",
    "#add files to these lists\n",
    "for root, dirs, files in os.walk(file_dir+\"/bio-oracle/\"):\n",
    "    for file in files:\n",
    "        if file.endswith('.tif'):\n",
    "            list_bio.append(file_dir+\"/bio-oracle/\"+file)\n",
    "            name=file.replace(\".tif\",\"\")\n",
    "            names_bio.append(name)\n",
    "            names_bio=natsorted(names_bio,key=lambda y: y.lower())\n",
    "\n",
    "for name in names_bio:\n",
    "    raster=rasterio.open(file_dir+\"/bio-oracle/\"+name+\".tif\")\n",
    "    #print(raster.meta) #inspect meta information\n",
    "    #show(raster,title=\"%s\"%name)\n",
    "\n",
    "list_bio_files=[]\n",
    "for item in list_bio:\n",
    "    list_bio_files.append(item)\n",
    "\n",
    "names_bio_files=[]\n",
    "for item in names_bio:\n",
    "    names_bio_files.append(item)\n",
    "\n",
    "\n",
    "with open(file_dir+'/bio-oracle/variable_list.txt', 'w') as f:\n",
    "    for item in names_bio_files:\n",
    "        f.write(\"%s\\n\" % item)     \n",
    "\n",
    "es.stack(list_bio_files, file_dir2+'/stacked_bio_oracle/bio_oracle_stacked.tif')"
   ]
  }
 ],
 "metadata": {
  "kernelspec": {
   "display_name": "base",
   "language": "python",
   "name": "python3"
  },
  "language_info": {
   "codemirror_mode": {
    "name": "ipython",
    "version": 3
   },
   "file_extension": ".py",
   "mimetype": "text/x-python",
   "name": "python",
   "nbconvert_exporter": "python",
   "pygments_lexer": "ipython3",
   "version": "3.11.5"
  }
 },
 "nbformat": 4,
 "nbformat_minor": 2
}
