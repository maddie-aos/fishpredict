{
 "cells": [
  {
   "cell_type": "code",
   "execution_count": 3,
   "metadata": {},
   "outputs": [],
   "source": [
    "from IPython.core.interactiveshell import InteractiveShell\n",
    "InteractiveShell.ast_node_interactivity = \"all\"\n",
    "\n",
    "from shapely.geometry import Point\n",
    "import matplotlib.pyplot as plt\n",
    "from rasterio.mask import mask\n",
    "from rasterio.plot import show\n",
    "from rasterio.plot import plotting_extent\n",
    "from natsort import natsorted\n",
    "import earthpy.spatial as es\n",
    "import pandas as pd\n",
    "import geopandas\n",
    "import rasterio\n",
    "import pycrs\n",
    "import os\n",
    "\n",
    "file_dir = ('/Users/maddie/Projects/fishpredict/data/data_raw/')\n",
    "file_dir2 = ('/Users/maddie/Projects/fishpredict/data/modified_data/')"
   ]
  },
  {
   "cell_type": "code",
   "execution_count": null,
   "metadata": {},
   "outputs": [],
   "source": [
    "list_bio=[]\n",
    "names_bio=[]\n",
    "\n",
    "#add files to these lists\n",
    "for root, dirs, files in os.walk(file_dir+\"/bio-oracle/\"):\n",
    "    for file in files:\n",
    "        if file.endswith('.tif'):\n",
    "            list_bio.append(file_dir+\"/bio-oracle/\"+file)\n",
    "            name=file.replace(\".tif\",\"\")\n",
    "            names_bio.append(name)\n",
    "            names_bio=natsorted(names_bio,key=lambda y: y.lower())\n",
    "\n",
    "for name in names_bio:\n",
    "    raster=rasterio.open(file_dir+\"/bio-oracle/\"+name+\".tif\")\n",
    "    #print(raster.meta) #inspect meta information\n",
    "    #show(raster,title=\"%s\"%name)\n",
    "\n",
    "list_bio_files=[]\n",
    "for item in list_bio:\n",
    "    list_bio_files.append(item)\n",
    "\n",
    "names_bio_files=[]\n",
    "for item in names_bio:\n",
    "    names_bio_files.append(item)\n",
    "\n",
    "\n",
    "with open(file_dir+'/bio-oracle/variable_list.txt', 'w') as f:\n",
    "    for item in names_bio_files:\n",
    "        f.write(\"%s\\n\" % item)     \n",
    "\n",
    "es.stack(list_bio_files, file_dir2+'/stacked_bio_oracle/bio_oracle_stacked.tif')"
   ]
  }
 ],
 "metadata": {
  "kernelspec": {
   "display_name": "base",
   "language": "python",
   "name": "python3"
  },
  "language_info": {
   "codemirror_mode": {
    "name": "ipython",
    "version": 3
   },
   "file_extension": ".py",
   "mimetype": "text/x-python",
   "name": "python",
   "nbconvert_exporter": "python",
   "pygments_lexer": "ipython3",
   "version": "3.11.5"
  }
 },
 "nbformat": 4,
 "nbformat_minor": 2
}
