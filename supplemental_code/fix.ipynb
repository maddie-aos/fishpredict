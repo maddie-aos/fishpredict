{
 "cells": [
  {
   "cell_type": "code",
   "execution_count": 1,
   "metadata": {},
   "outputs": [],
   "source": [
    "import numpy as np\n",
    "from shapely.geometry import Point, Polygon\n",
    "import pandas as pd\n",
    "import matplotlib.pyplot as plt\n",
    "import geopandas as gpd\n",
    "from pathlib import Path\n",
    "file_dir = ('/Users/maddie/Projects/CPSC_597/')"
   ]
  },
  {
   "cell_type": "code",
   "execution_count": 10,
   "metadata": {},
   "outputs": [],
   "source": [
    "cit_sor = pd.read_csv(file_dir+'data/modified_data/test/cit_sor.csv')\n",
    "cit_sor.columns=['deci_lat', 'deci_lon', 'val']\n",
    "cit_sor = cit_sor.drop('val', axis=1)\n",
    "\n",
    "filepath = Path(file_dir+'data/modified_data/prediction_arrays/Citharichthys_sordidus_locations_to_predict.csv')  \n",
    "filepath.parent.mkdir(parents=True, exist_ok=True)  \n",
    "cit_sor.to_csv(filepath)  "
   ]
  },
  {
   "cell_type": "code",
   "execution_count": 15,
   "metadata": {},
   "outputs": [],
   "source": [
    "eng_mor = pd.read_csv(file_dir+'data/modified_data/test/eng_mor.csv')\n",
    "eng_mor.columns=['deci_lat', 'deci_lon', 'val']\n",
    "eng_mor = eng_mor.drop('val', axis=1)\n",
    "\n",
    "filepath = Path(file_dir+'data/modified_data/prediction_arrays/Engraulis_mordax_locations_to_predict.csv')  \n",
    "filepath.parent.mkdir(parents=True, exist_ok=True)  \n",
    "eng_mor.to_csv(filepath)  "
   ]
  },
  {
   "cell_type": "code",
   "execution_count": 16,
   "metadata": {},
   "outputs": [],
   "source": [
    "par_cal = pd.read_csv(file_dir+'data/modified_data/test/par_cal.csv')\n",
    "par_cal.columns=['deci_lat', 'deci_lon', 'val']\n",
    "par_cal = par_cal.drop('val', axis=1)\n",
    "\n",
    "filepath = Path(file_dir+'data/modified_data/prediction_arrays/Paralichthys_californicus_locations_to_predict.csv')  \n",
    "filepath.parent.mkdir(parents=True, exist_ok=True)  \n",
    "par_cal.to_csv(filepath)  "
   ]
  },
  {
   "cell_type": "code",
   "execution_count": 17,
   "metadata": {},
   "outputs": [],
   "source": [
    "sco_jap = pd.read_csv(file_dir+'data/modified_data/test/sco_jap.csv')\n",
    "sco_jap.columns=['deci_lat', 'deci_lon', 'val']\n",
    "sco_jap = sco_jap.drop('val', axis=1)\n",
    "\n",
    "filepath = Path(file_dir+'data/modified_data/prediction_arrays/Scomber_japonicus_locations_to_predict.csv')  \n",
    "filepath.parent.mkdir(parents=True, exist_ok=True)  \n",
    "sco_jap.to_csv(filepath)  "
   ]
  },
  {
   "cell_type": "code",
   "execution_count": 18,
   "metadata": {},
   "outputs": [],
   "source": [
    "thu_ala = pd.read_csv(file_dir+'data/modified_data/test/thu_ala.csv')\n",
    "thu_ala.columns=['deci_lat', 'deci_lon', 'val']\n",
    "thu_ala = thu_ala.drop('val', axis=1)\n",
    "\n",
    "filepath = Path(file_dir+'data/modified_data/prediction_arrays/Thunnus_alalunga_locations_to_predict.csv')  \n",
    "filepath.parent.mkdir(parents=True, exist_ok=True)  \n",
    "thu_ala.to_csv(filepath)  "
   ]
  },
  {
   "cell_type": "code",
   "execution_count": null,
   "metadata": {},
   "outputs": [],
   "source": [
    "xip_gla = pd.read_csv(file_dir+'data/modified_data/test/xip_gla.csv')\n",
    "xip_gla.columns=['deci_lat', 'deci_lon', 'val']\n",
    "xip_gla = xip_gla.drop('val', axis=1)\n",
    "\n",
    "filepath = Path(file_dir+'data/modified_data/prediction_arrays/Xiphias_gladius_locations_to_predict.csv')  \n",
    "filepath.parent.mkdir(parents=True, exist_ok=True)  \n",
    "xip_gla.to_csv(filepath)  "
   ]
  }
 ],
 "metadata": {
  "kernelspec": {
   "display_name": "base",
   "language": "python",
   "name": "python3"
  },
  "language_info": {
   "codemirror_mode": {
    "name": "ipython",
    "version": 3
   },
   "file_extension": ".py",
   "mimetype": "text/x-python",
   "name": "python",
   "nbconvert_exporter": "python",
   "pygments_lexer": "ipython3",
   "version": "3.9.7"
  },
  "orig_nbformat": 4
 },
 "nbformat": 4,
 "nbformat_minor": 2
}
