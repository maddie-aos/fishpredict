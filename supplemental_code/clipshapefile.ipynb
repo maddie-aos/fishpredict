{
 "cells": [
  {
   "cell_type": "code",
   "execution_count": 1,
   "metadata": {},
   "outputs": [],
   "source": [
    "import pandas as pd\n",
    "import numpy as np\n",
    "file_dir = ('/Users/maddie/Projects/CPSC_597/data/modified_data/')"
   ]
  },
  {
   "cell_type": "code",
   "execution_count": 12,
   "metadata": {},
   "outputs": [],
   "source": [
    "master = pd.read_csv(file_dir +'/gbif_filtered/Xiphias_gladius_filtered_data.csv', low_memory= False)\n",
    "master_ppa = pd.read_csv(file_dir+'/spec_ppa/Xiphias_gladius_ppa_dataframe.csv')\n",
    "\n",
    "master.to_excel('master.xlsx')\n",
    "master_ppa.to_excel('master_ppa.xlsx')"
   ]
  },
  {
   "cell_type": "code",
   "execution_count": 13,
   "metadata": {},
   "outputs": [],
   "source": [
    "master_ppa2= pd.read_excel (\"master_ppa.xlsx\")\n",
    "master_ppa2.to_csv(file_dir+'/spec_ppa/Xiphias_gladius_ppa_dataframe.csv')  "
   ]
  }
 ],
 "metadata": {
  "kernelspec": {
   "display_name": "base",
   "language": "python",
   "name": "python3"
  },
  "language_info": {
   "codemirror_mode": {
    "name": "ipython",
    "version": 3
   },
   "file_extension": ".py",
   "mimetype": "text/x-python",
   "name": "python",
   "nbconvert_exporter": "python",
   "pygments_lexer": "ipython3",
   "version": "3.9.7"
  },
  "orig_nbformat": 4
 },
 "nbformat": 4,
 "nbformat_minor": 2
}
